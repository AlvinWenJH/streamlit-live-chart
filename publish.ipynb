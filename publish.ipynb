{
 "cells": [
  {
   "cell_type": "code",
   "execution_count": 3,
   "metadata": {},
   "outputs": [],
   "source": [
    "import pika\n",
    "import time\n",
    "import numpy as np\n",
    "import json\n",
    "\n",
    "connection = pika.BlockingConnection(pika.ConnectionParameters(host='localhost'))\n",
    "channel = connection.channel()\n",
    "channel.queue_declare(queue='test')\n",
    "\n",
    "def publish_message(queue_name, message):\n",
    "    \"\"\"Publish a message to a RabbitMQ queue.\"\"\"\n",
    "    \n",
    "    channel.basic_publish(\n",
    "        exchange='',\n",
    "        routing_key=queue_name,\n",
    "        body=message\n",
    "    )\n",
    "\n",
    "\n",
    "# Example usage\n",
    "publish_message('test','start')\n",
    "for i in range(10000):\n",
    "    if i%10==0:\n",
    "        message = {\"x\":i,\"y\":100*np.random.randn()+10000*np.exp(-0.001*i)}\n",
    "        publish_message(\"test\", json.dumps(message))\n",
    "        time.sleep(0.01)\n",
    "connection.close()"
   ]
  },
  {
   "cell_type": "code",
   "execution_count": null,
   "metadata": {},
   "outputs": [],
   "source": []
  }
 ],
 "metadata": {
  "kernelspec": {
   "display_name": "ddp",
   "language": "python",
   "name": "python3"
  },
  "language_info": {
   "codemirror_mode": {
    "name": "ipython",
    "version": 3
   },
   "file_extension": ".py",
   "mimetype": "text/x-python",
   "name": "python",
   "nbconvert_exporter": "python",
   "pygments_lexer": "ipython3",
   "version": "3.10.14"
  }
 },
 "nbformat": 4,
 "nbformat_minor": 2
}
